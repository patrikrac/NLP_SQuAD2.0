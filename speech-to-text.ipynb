{
  "cells": [
    {
      "cell_type": "markdown",
      "metadata": {
        "id": "DEZezug-DzPB"
      },
      "source": [
        "# Install Whisper"
      ]
    },
    {
      "cell_type": "code",
      "execution_count": 1,
      "metadata": {
        "colab": {
          "base_uri": "https://localhost:8080/"
        },
        "id": "XRRPAS8t1DXJ",
        "outputId": "756c91ad-99b8-4458-e4e8-50632610c084"
      },
      "outputs": [
        {
          "name": "stdout",
          "output_type": "stream",
          "text": [
            "Collecting git+https://github.com/openai/whisper.git\n",
            "  Cloning https://github.com/openai/whisper.git to c:\\users\\matti\\appdata\\local\\temp\\pip-req-build-fn0zs4lz\n",
            "  Resolved https://github.com/openai/whisper.git to commit ba3f3cd54b0e5b8ce1ab3de13e32122d0d5f98ab\n",
            "  Installing build dependencies: started\n",
            "  Installing build dependencies: finished with status 'done'\n",
            "  Getting requirements to build wheel: started\n",
            "  Getting requirements to build wheel: finished with status 'done'\n",
            "  Preparing metadata (pyproject.toml): started\n",
            "  Preparing metadata (pyproject.toml): finished with status 'done'\n",
            "Collecting numba (from openai-whisper==20231117)\n",
            "  Using cached numba-0.58.1-cp310-cp310-win_amd64.whl.metadata (2.8 kB)\n",
            "Requirement already satisfied: numpy in c:\\users\\matti\\appdata\\local\\programs\\python\\python310\\lib\\site-packages (from openai-whisper==20231117) (1.23.5)\n",
            "Requirement already satisfied: torch in c:\\users\\matti\\appdata\\local\\programs\\python\\python310\\lib\\site-packages (from openai-whisper==20231117) (2.1.0+cu118)\n",
            "Requirement already satisfied: tqdm in c:\\users\\matti\\appdata\\local\\programs\\python\\python310\\lib\\site-packages (from openai-whisper==20231117) (4.65.0)\n",
            "Collecting more-itertools (from openai-whisper==20231117)\n",
            "  Downloading more_itertools-10.1.0-py3-none-any.whl.metadata (33 kB)\n",
            "Collecting tiktoken (from openai-whisper==20231117)\n",
            "  Downloading tiktoken-0.5.2-cp310-cp310-win_amd64.whl.metadata (6.8 kB)\n",
            "Collecting llvmlite<0.42,>=0.41.0dev0 (from numba->openai-whisper==20231117)\n",
            "  Using cached llvmlite-0.41.1-cp310-cp310-win_amd64.whl.metadata (4.9 kB)\n",
            "Requirement already satisfied: regex>=2022.1.18 in c:\\users\\matti\\appdata\\local\\programs\\python\\python310\\lib\\site-packages (from tiktoken->openai-whisper==20231117) (2023.10.3)\n",
            "Requirement already satisfied: requests>=2.26.0 in c:\\users\\matti\\appdata\\local\\programs\\python\\python310\\lib\\site-packages (from tiktoken->openai-whisper==20231117) (2.30.0)\n",
            "Requirement already satisfied: filelock in c:\\users\\matti\\appdata\\local\\programs\\python\\python310\\lib\\site-packages (from torch->openai-whisper==20231117) (3.12.0)\n",
            "Requirement already satisfied: typing-extensions in c:\\users\\matti\\appdata\\local\\programs\\python\\python310\\lib\\site-packages (from torch->openai-whisper==20231117) (4.5.0)\n",
            "Requirement already satisfied: sympy in c:\\users\\matti\\appdata\\local\\programs\\python\\python310\\lib\\site-packages (from torch->openai-whisper==20231117) (1.12)\n",
            "Requirement already satisfied: networkx in c:\\users\\matti\\appdata\\local\\programs\\python\\python310\\lib\\site-packages (from torch->openai-whisper==20231117) (2.8.8)\n",
            "Requirement already satisfied: jinja2 in c:\\users\\matti\\appdata\\local\\programs\\python\\python310\\lib\\site-packages (from torch->openai-whisper==20231117) (3.1.2)\n",
            "Requirement already satisfied: fsspec in c:\\users\\matti\\appdata\\local\\programs\\python\\python310\\lib\\site-packages (from torch->openai-whisper==20231117) (2023.4.0)\n",
            "Requirement already satisfied: colorama in c:\\users\\matti\\appdata\\local\\programs\\python\\python310\\lib\\site-packages (from tqdm->openai-whisper==20231117) (0.4.6)\n",
            "Requirement already satisfied: charset-normalizer<4,>=2 in c:\\users\\matti\\appdata\\local\\programs\\python\\python310\\lib\\site-packages (from requests>=2.26.0->tiktoken->openai-whisper==20231117) (3.1.0)\n",
            "Requirement already satisfied: idna<4,>=2.5 in c:\\users\\matti\\appdata\\local\\programs\\python\\python310\\lib\\site-packages (from requests>=2.26.0->tiktoken->openai-whisper==20231117) (3.4)\n",
            "Requirement already satisfied: urllib3<3,>=1.21.1 in c:\\users\\matti\\appdata\\local\\programs\\python\\python310\\lib\\site-packages (from requests>=2.26.0->tiktoken->openai-whisper==20231117) (1.26.16)\n",
            "Requirement already satisfied: certifi>=2017.4.17 in c:\\users\\matti\\appdata\\local\\programs\\python\\python310\\lib\\site-packages (from requests>=2.26.0->tiktoken->openai-whisper==20231117) (2023.5.7)\n",
            "Requirement already satisfied: MarkupSafe>=2.0 in c:\\users\\matti\\appdata\\local\\programs\\python\\python310\\lib\\site-packages (from jinja2->torch->openai-whisper==20231117) (2.1.2)\n",
            "Requirement already satisfied: mpmath>=0.19 in c:\\users\\matti\\appdata\\local\\programs\\python\\python310\\lib\\site-packages (from sympy->torch->openai-whisper==20231117) (1.3.0)\n",
            "Downloading more_itertools-10.1.0-py3-none-any.whl (55 kB)\n",
            "   ---------------------------------------- 0.0/55.8 kB ? eta -:--:--\n",
            "   ---------------------------------------- 55.8/55.8 kB 2.8 MB/s eta 0:00:00\n",
            "Using cached numba-0.58.1-cp310-cp310-win_amd64.whl (2.6 MB)\n",
            "Downloading tiktoken-0.5.2-cp310-cp310-win_amd64.whl (786 kB)\n",
            "   ---------------------------------------- 0.0/786.3 kB ? eta -:--:--\n",
            "   ------------ --------------------------- 245.8/786.3 kB 7.6 MB/s eta 0:00:01\n",
            "   ---------------------- ----------------- 450.6/786.3 kB 7.0 MB/s eta 0:00:01\n",
            "   ---------------------------------------- 786.3/786.3 kB 8.3 MB/s eta 0:00:00\n",
            "Using cached llvmlite-0.41.1-cp310-cp310-win_amd64.whl (28.1 MB)\n",
            "Building wheels for collected packages: openai-whisper\n",
            "  Building wheel for openai-whisper (pyproject.toml): started\n",
            "  Building wheel for openai-whisper (pyproject.toml): finished with status 'done'\n",
            "  Created wheel for openai-whisper: filename=openai_whisper-20231117-py3-none-any.whl size=812160 sha256=96a5bf9780b01227c08c9b821048dcb8e2979da3f546402978c262639af7d521\n",
            "  Stored in directory: C:\\Users\\matti\\AppData\\Local\\Temp\\pip-ephem-wheel-cache-hj7kxhee\\wheels\\8b\\6c\\d0\\622666868c179f156cf595c8b6f06f88bc5d80c4b31dccaa03\n",
            "Successfully built openai-whisper\n",
            "Installing collected packages: more-itertools, llvmlite, tiktoken, numba, openai-whisper\n",
            "Successfully installed llvmlite-0.41.1 more-itertools-10.1.0 numba-0.58.1 openai-whisper-20231117 tiktoken-0.5.2\n"
          ]
        },
        {
          "name": "stderr",
          "output_type": "stream",
          "text": [
            "WARNING: Ignoring invalid distribution -rotobuf (c:\\users\\matti\\appdata\\local\\programs\\python\\python310\\lib\\site-packages)\n",
            "  Running command git clone --filter=blob:none --quiet https://github.com/openai/whisper.git 'C:\\Users\\matti\\AppData\\Local\\Temp\\pip-req-build-fn0zs4lz'\n",
            "WARNING: Ignoring invalid distribution -rotobuf (c:\\users\\matti\\appdata\\local\\programs\\python\\python310\\lib\\site-packages)\n",
            "\n",
            "[notice] A new release of pip is available: 23.3.1 -> 23.3.2\n",
            "[notice] To update, run: python.exe -m pip install --upgrade pip\n"
          ]
        }
      ],
      "source": [
        "%pip install git+https://github.com/openai/whisper.git"
      ]
    },
    {
      "cell_type": "markdown",
      "metadata": {
        "id": "2E86sIkRE96A"
      },
      "source": [
        "# Installing dependencies"
      ]
    },
    {
      "cell_type": "code",
      "execution_count": 2,
      "metadata": {
        "colab": {
          "base_uri": "https://localhost:8080/"
        },
        "id": "-YsDcsci1xRE",
        "outputId": "0de0f08c-1b90-44c9-d357-9ec5108927de"
      },
      "outputs": [
        {
          "name": "stdout",
          "output_type": "stream",
          "text": [
            "Requirement already satisfied: ffmpeg-python in c:\\users\\matti\\appdata\\local\\programs\\python\\python310\\lib\\site-packages (0.2.0)\n",
            "Requirement already satisfied: future in c:\\users\\matti\\appdata\\local\\programs\\python\\python310\\lib\\site-packages (from ffmpeg-python) (0.18.3)\n"
          ]
        },
        {
          "name": "stderr",
          "output_type": "stream",
          "text": [
            "WARNING: Ignoring invalid distribution -rotobuf (c:\\users\\matti\\appdata\\local\\programs\\python\\python310\\lib\\site-packages)\n",
            "WARNING: Ignoring invalid distribution -rotobuf (c:\\users\\matti\\appdata\\local\\programs\\python\\python310\\lib\\site-packages)\n",
            "\n",
            "[notice] A new release of pip is available: 23.3.1 -> 23.3.2\n",
            "[notice] To update, run: python.exe -m pip install --upgrade pip\n"
          ]
        },
        {
          "name": "stdout",
          "output_type": "stream",
          "text": [
            "Requirement already satisfied: torchaudio in c:\\users\\matti\\appdata\\local\\programs\\python\\python310\\lib\\site-packages (2.1.0+cu118)\n",
            "Collecting ipywebrtc\n",
            "  Downloading ipywebrtc-0.6.0-py2.py3-none-any.whl (260 kB)\n",
            "     ---------------------------------------- 0.0/260.7 kB ? eta -:--:--\n",
            "     ---------------------------- --------- 194.6/260.7 kB 5.9 MB/s eta 0:00:01\n",
            "     -------------------------------------- 260.7/260.7 kB 4.0 MB/s eta 0:00:00\n",
            "Requirement already satisfied: notebook in c:\\users\\matti\\appdata\\local\\programs\\python\\python310\\lib\\site-packages (6.5.4)\n",
            "Requirement already satisfied: torch==2.1.0+cu118 in c:\\users\\matti\\appdata\\local\\programs\\python\\python310\\lib\\site-packages (from torchaudio) (2.1.0+cu118)\n",
            "Requirement already satisfied: filelock in c:\\users\\matti\\appdata\\local\\programs\\python\\python310\\lib\\site-packages (from torch==2.1.0+cu118->torchaudio) (3.12.0)\n",
            "Requirement already satisfied: typing-extensions in c:\\users\\matti\\appdata\\local\\programs\\python\\python310\\lib\\site-packages (from torch==2.1.0+cu118->torchaudio) (4.5.0)\n",
            "Requirement already satisfied: sympy in c:\\users\\matti\\appdata\\local\\programs\\python\\python310\\lib\\site-packages (from torch==2.1.0+cu118->torchaudio) (1.12)\n",
            "Requirement already satisfied: networkx in c:\\users\\matti\\appdata\\local\\programs\\python\\python310\\lib\\site-packages (from torch==2.1.0+cu118->torchaudio) (2.8.8)\n",
            "Requirement already satisfied: jinja2 in c:\\users\\matti\\appdata\\local\\programs\\python\\python310\\lib\\site-packages (from torch==2.1.0+cu118->torchaudio) (3.1.2)\n",
            "Requirement already satisfied: fsspec in c:\\users\\matti\\appdata\\local\\programs\\python\\python310\\lib\\site-packages (from torch==2.1.0+cu118->torchaudio) (2023.4.0)\n",
            "Requirement already satisfied: tornado>=6.1 in c:\\users\\matti\\appdata\\local\\programs\\python\\python310\\lib\\site-packages (from notebook) (6.3.2)\n",
            "Requirement already satisfied: pyzmq>=17 in c:\\users\\matti\\appdata\\local\\programs\\python\\python310\\lib\\site-packages (from notebook) (25.0.2)\n",
            "Requirement already satisfied: argon2-cffi in c:\\users\\matti\\appdata\\local\\programs\\python\\python310\\lib\\site-packages (from notebook) (21.3.0)\n",
            "Requirement already satisfied: traitlets>=4.2.1 in c:\\users\\matti\\appdata\\local\\programs\\python\\python310\\lib\\site-packages (from notebook) (5.9.0)\n",
            "Requirement already satisfied: jupyter-core>=4.6.1 in c:\\users\\matti\\appdata\\local\\programs\\python\\python310\\lib\\site-packages (from notebook) (5.3.0)\n",
            "Requirement already satisfied: jupyter-client>=5.3.4 in c:\\users\\matti\\appdata\\local\\programs\\python\\python310\\lib\\site-packages (from notebook) (8.2.0)\n",
            "Requirement already satisfied: ipython-genutils in c:\\users\\matti\\appdata\\local\\programs\\python\\python310\\lib\\site-packages (from notebook) (0.2.0)\n",
            "Requirement already satisfied: nbformat in c:\\users\\matti\\appdata\\local\\programs\\python\\python310\\lib\\site-packages (from notebook) (5.8.0)\n",
            "Requirement already satisfied: nbconvert>=5 in c:\\users\\matti\\appdata\\local\\programs\\python\\python310\\lib\\site-packages (from notebook) (7.4.0)\n",
            "Requirement already satisfied: nest-asyncio>=1.5 in c:\\users\\matti\\appdata\\local\\programs\\python\\python310\\lib\\site-packages (from notebook) (1.5.6)\n",
            "Requirement already satisfied: ipykernel in c:\\users\\matti\\appdata\\local\\programs\\python\\python310\\lib\\site-packages (from notebook) (6.23.1)\n",
            "Requirement already satisfied: Send2Trash>=1.8.0 in c:\\users\\matti\\appdata\\local\\programs\\python\\python310\\lib\\site-packages (from notebook) (1.8.2)\n",
            "Requirement already satisfied: terminado>=0.8.3 in c:\\users\\matti\\appdata\\local\\programs\\python\\python310\\lib\\site-packages (from notebook) (0.17.1)\n",
            "Requirement already satisfied: prometheus-client in c:\\users\\matti\\appdata\\local\\programs\\python\\python310\\lib\\site-packages (from notebook) (0.16.0)\n",
            "Requirement already satisfied: nbclassic>=0.4.7 in c:\\users\\matti\\appdata\\local\\programs\\python\\python310\\lib\\site-packages (from notebook) (1.0.0)\n",
            "Requirement already satisfied: python-dateutil>=2.8.2 in c:\\users\\matti\\appdata\\local\\programs\\python\\python310\\lib\\site-packages (from jupyter-client>=5.3.4->notebook) (2.8.2)\n",
            "Requirement already satisfied: platformdirs>=2.5 in c:\\users\\matti\\appdata\\local\\programs\\python\\python310\\lib\\site-packages (from jupyter-core>=4.6.1->notebook) (3.5.1)\n",
            "Requirement already satisfied: pywin32>=300 in c:\\users\\matti\\appdata\\local\\programs\\python\\python310\\lib\\site-packages (from jupyter-core>=4.6.1->notebook) (306)\n",
            "Requirement already satisfied: jupyter-server>=1.8 in c:\\users\\matti\\appdata\\local\\programs\\python\\python310\\lib\\site-packages (from nbclassic>=0.4.7->notebook) (2.5.0)\n",
            "Requirement already satisfied: notebook-shim>=0.2.3 in c:\\users\\matti\\appdata\\local\\programs\\python\\python310\\lib\\site-packages (from nbclassic>=0.4.7->notebook) (0.2.3)\n",
            "Requirement already satisfied: beautifulsoup4 in c:\\users\\matti\\appdata\\local\\programs\\python\\python310\\lib\\site-packages (from nbconvert>=5->notebook) (4.12.2)\n",
            "Requirement already satisfied: bleach in c:\\users\\matti\\appdata\\local\\programs\\python\\python310\\lib\\site-packages (from nbconvert>=5->notebook) (6.0.0)\n",
            "Requirement already satisfied: defusedxml in c:\\users\\matti\\appdata\\local\\programs\\python\\python310\\lib\\site-packages (from nbconvert>=5->notebook) (0.7.1)\n",
            "Requirement already satisfied: jupyterlab-pygments in c:\\users\\matti\\appdata\\local\\programs\\python\\python310\\lib\\site-packages (from nbconvert>=5->notebook) (0.2.2)\n",
            "Requirement already satisfied: markupsafe>=2.0 in c:\\users\\matti\\appdata\\local\\programs\\python\\python310\\lib\\site-packages (from nbconvert>=5->notebook) (2.1.2)\n",
            "Requirement already satisfied: mistune<3,>=2.0.3 in c:\\users\\matti\\appdata\\local\\programs\\python\\python310\\lib\\site-packages (from nbconvert>=5->notebook) (2.0.5)\n",
            "Requirement already satisfied: nbclient>=0.5.0 in c:\\users\\matti\\appdata\\local\\programs\\python\\python310\\lib\\site-packages (from nbconvert>=5->notebook) (0.7.4)\n",
            "Requirement already satisfied: packaging in c:\\users\\matti\\appdata\\local\\programs\\python\\python310\\lib\\site-packages (from nbconvert>=5->notebook) (23.1)\n",
            "Requirement already satisfied: pandocfilters>=1.4.1 in c:\\users\\matti\\appdata\\local\\programs\\python\\python310\\lib\\site-packages (from nbconvert>=5->notebook) (1.5.0)\n",
            "Requirement already satisfied: pygments>=2.4.1 in c:\\users\\matti\\appdata\\local\\programs\\python\\python310\\lib\\site-packages (from nbconvert>=5->notebook) (2.15.1)\n",
            "Requirement already satisfied: tinycss2 in c:\\users\\matti\\appdata\\local\\programs\\python\\python310\\lib\\site-packages (from nbconvert>=5->notebook) (1.2.1)\n",
            "Requirement already satisfied: fastjsonschema in c:\\users\\matti\\appdata\\local\\programs\\python\\python310\\lib\\site-packages (from nbformat->notebook) (2.16.3)\n",
            "Requirement already satisfied: jsonschema>=2.6 in c:\\users\\matti\\appdata\\local\\programs\\python\\python310\\lib\\site-packages (from nbformat->notebook) (4.17.3)\n",
            "Requirement already satisfied: pywinpty>=1.1.0 in c:\\users\\matti\\appdata\\local\\programs\\python\\python310\\lib\\site-packages (from terminado>=0.8.3->notebook) (2.0.10)\n",
            "Requirement already satisfied: argon2-cffi-bindings in c:\\users\\matti\\appdata\\local\\programs\\python\\python310\\lib\\site-packages (from argon2-cffi->notebook) (21.2.0)\n",
            "Requirement already satisfied: comm>=0.1.1 in c:\\users\\matti\\appdata\\local\\programs\\python\\python310\\lib\\site-packages (from ipykernel->notebook) (0.1.3)\n",
            "Requirement already satisfied: debugpy>=1.6.5 in c:\\users\\matti\\appdata\\local\\programs\\python\\python310\\lib\\site-packages (from ipykernel->notebook) (1.6.7)\n",
            "Requirement already satisfied: ipython>=7.23.1 in c:\\users\\matti\\appdata\\local\\programs\\python\\python310\\lib\\site-packages (from ipykernel->notebook) (8.13.2)\n",
            "Requirement already satisfied: matplotlib-inline>=0.1 in c:\\users\\matti\\appdata\\local\\programs\\python\\python310\\lib\\site-packages (from ipykernel->notebook) (0.1.6)\n",
            "Requirement already satisfied: psutil in c:\\users\\matti\\appdata\\local\\programs\\python\\python310\\lib\\site-packages (from ipykernel->notebook) (5.9.5)\n",
            "Requirement already satisfied: backcall in c:\\users\\matti\\appdata\\local\\programs\\python\\python310\\lib\\site-packages (from ipython>=7.23.1->ipykernel->notebook) (0.2.0)\n",
            "Requirement already satisfied: decorator in c:\\users\\matti\\appdata\\local\\programs\\python\\python310\\lib\\site-packages (from ipython>=7.23.1->ipykernel->notebook) (5.1.1)\n",
            "Requirement already satisfied: jedi>=0.16 in c:\\users\\matti\\appdata\\local\\programs\\python\\python310\\lib\\site-packages (from ipython>=7.23.1->ipykernel->notebook) (0.18.2)\n",
            "Requirement already satisfied: pickleshare in c:\\users\\matti\\appdata\\local\\programs\\python\\python310\\lib\\site-packages (from ipython>=7.23.1->ipykernel->notebook) (0.7.5)\n",
            "Requirement already satisfied: prompt-toolkit!=3.0.37,<3.1.0,>=3.0.30 in c:\\users\\matti\\appdata\\local\\programs\\python\\python310\\lib\\site-packages (from ipython>=7.23.1->ipykernel->notebook) (3.0.38)\n",
            "Requirement already satisfied: stack-data in c:\\users\\matti\\appdata\\local\\programs\\python\\python310\\lib\\site-packages (from ipython>=7.23.1->ipykernel->notebook) (0.6.2)\n",
            "Requirement already satisfied: colorama in c:\\users\\matti\\appdata\\local\\programs\\python\\python310\\lib\\site-packages (from ipython>=7.23.1->ipykernel->notebook) (0.4.6)\n",
            "Requirement already satisfied: attrs>=17.4.0 in c:\\users\\matti\\appdata\\local\\programs\\python\\python310\\lib\\site-packages (from jsonschema>=2.6->nbformat->notebook) (23.1.0)\n",
            "Requirement already satisfied: pyrsistent!=0.17.0,!=0.17.1,!=0.17.2,>=0.14.0 in c:\\users\\matti\\appdata\\local\\programs\\python\\python310\\lib\\site-packages (from jsonschema>=2.6->nbformat->notebook) (0.19.3)\n",
            "Requirement already satisfied: anyio>=3.1.0 in c:\\users\\matti\\appdata\\local\\programs\\python\\python310\\lib\\site-packages (from jupyter-server>=1.8->nbclassic>=0.4.7->notebook) (3.6.2)\n",
            "Requirement already satisfied: jupyter-events>=0.4.0 in c:\\users\\matti\\appdata\\local\\programs\\python\\python310\\lib\\site-packages (from jupyter-server>=1.8->nbclassic>=0.4.7->notebook) (0.6.3)\n",
            "Requirement already satisfied: jupyter-server-terminals in c:\\users\\matti\\appdata\\local\\programs\\python\\python310\\lib\\site-packages (from jupyter-server>=1.8->nbclassic>=0.4.7->notebook) (0.4.4)\n",
            "Requirement already satisfied: websocket-client in c:\\users\\matti\\appdata\\local\\programs\\python\\python310\\lib\\site-packages (from jupyter-server>=1.8->nbclassic>=0.4.7->notebook) (1.5.1)\n",
            "Requirement already satisfied: six>=1.5 in c:\\users\\matti\\appdata\\local\\programs\\python\\python310\\lib\\site-packages (from python-dateutil>=2.8.2->jupyter-client>=5.3.4->notebook) (1.16.0)\n",
            "Requirement already satisfied: cffi>=1.0.1 in c:\\users\\matti\\appdata\\local\\programs\\python\\python310\\lib\\site-packages (from argon2-cffi-bindings->argon2-cffi->notebook) (1.15.1)\n",
            "Requirement already satisfied: soupsieve>1.2 in c:\\users\\matti\\appdata\\local\\programs\\python\\python310\\lib\\site-packages (from beautifulsoup4->nbconvert>=5->notebook) (2.4.1)\n",
            "Requirement already satisfied: webencodings in c:\\users\\matti\\appdata\\local\\programs\\python\\python310\\lib\\site-packages (from bleach->nbconvert>=5->notebook) (0.5.1)\n",
            "Requirement already satisfied: mpmath>=0.19 in c:\\users\\matti\\appdata\\local\\programs\\python\\python310\\lib\\site-packages (from sympy->torch==2.1.0+cu118->torchaudio) (1.3.0)\n",
            "Requirement already satisfied: idna>=2.8 in c:\\users\\matti\\appdata\\local\\programs\\python\\python310\\lib\\site-packages (from anyio>=3.1.0->jupyter-server>=1.8->nbclassic>=0.4.7->notebook) (3.4)\n",
            "Requirement already satisfied: sniffio>=1.1 in c:\\users\\matti\\appdata\\local\\programs\\python\\python310\\lib\\site-packages (from anyio>=3.1.0->jupyter-server>=1.8->nbclassic>=0.4.7->notebook) (1.3.0)\n",
            "Requirement already satisfied: pycparser in c:\\users\\matti\\appdata\\local\\programs\\python\\python310\\lib\\site-packages (from cffi>=1.0.1->argon2-cffi-bindings->argon2-cffi->notebook) (2.21)\n",
            "Requirement already satisfied: parso<0.9.0,>=0.8.0 in c:\\users\\matti\\appdata\\local\\programs\\python\\python310\\lib\\site-packages (from jedi>=0.16->ipython>=7.23.1->ipykernel->notebook) (0.8.3)\n",
            "Requirement already satisfied: python-json-logger>=2.0.4 in c:\\users\\matti\\appdata\\local\\programs\\python\\python310\\lib\\site-packages (from jupyter-events>=0.4.0->jupyter-server>=1.8->nbclassic>=0.4.7->notebook) (2.0.7)\n",
            "Requirement already satisfied: pyyaml>=5.3 in c:\\users\\matti\\appdata\\local\\programs\\python\\python310\\lib\\site-packages (from jupyter-events>=0.4.0->jupyter-server>=1.8->nbclassic>=0.4.7->notebook) (6.0)\n",
            "Requirement already satisfied: rfc3339-validator in c:\\users\\matti\\appdata\\local\\programs\\python\\python310\\lib\\site-packages (from jupyter-events>=0.4.0->jupyter-server>=1.8->nbclassic>=0.4.7->notebook) (0.1.4)\n",
            "Requirement already satisfied: rfc3986-validator>=0.1.1 in c:\\users\\matti\\appdata\\local\\programs\\python\\python310\\lib\\site-packages (from jupyter-events>=0.4.0->jupyter-server>=1.8->nbclassic>=0.4.7->notebook) (0.1.1)\n",
            "Requirement already satisfied: wcwidth in c:\\users\\matti\\appdata\\local\\programs\\python\\python310\\lib\\site-packages (from prompt-toolkit!=3.0.37,<3.1.0,>=3.0.30->ipython>=7.23.1->ipykernel->notebook) (0.2.6)\n",
            "Requirement already satisfied: executing>=1.2.0 in c:\\users\\matti\\appdata\\local\\programs\\python\\python310\\lib\\site-packages (from stack-data->ipython>=7.23.1->ipykernel->notebook) (1.2.0)\n",
            "Requirement already satisfied: asttokens>=2.1.0 in c:\\users\\matti\\appdata\\local\\programs\\python\\python310\\lib\\site-packages (from stack-data->ipython>=7.23.1->ipykernel->notebook) (2.2.1)\n",
            "Requirement already satisfied: pure-eval in c:\\users\\matti\\appdata\\local\\programs\\python\\python310\\lib\\site-packages (from stack-data->ipython>=7.23.1->ipykernel->notebook) (0.2.2)\n",
            "Requirement already satisfied: fqdn in c:\\users\\matti\\appdata\\local\\programs\\python\\python310\\lib\\site-packages (from jsonschema[format-nongpl]>=3.2.0->jupyter-events>=0.4.0->jupyter-server>=1.8->nbclassic>=0.4.7->notebook) (1.5.1)\n",
            "Requirement already satisfied: isoduration in c:\\users\\matti\\appdata\\local\\programs\\python\\python310\\lib\\site-packages (from jsonschema[format-nongpl]>=3.2.0->jupyter-events>=0.4.0->jupyter-server>=1.8->nbclassic>=0.4.7->notebook) (20.11.0)\n",
            "Requirement already satisfied: jsonpointer>1.13 in c:\\users\\matti\\appdata\\local\\programs\\python\\python310\\lib\\site-packages (from jsonschema[format-nongpl]>=3.2.0->jupyter-events>=0.4.0->jupyter-server>=1.8->nbclassic>=0.4.7->notebook) (2.3)\n",
            "Requirement already satisfied: uri-template in c:\\users\\matti\\appdata\\local\\programs\\python\\python310\\lib\\site-packages (from jsonschema[format-nongpl]>=3.2.0->jupyter-events>=0.4.0->jupyter-server>=1.8->nbclassic>=0.4.7->notebook) (1.2.0)\n",
            "Requirement already satisfied: webcolors>=1.11 in c:\\users\\matti\\appdata\\local\\programs\\python\\python310\\lib\\site-packages (from jsonschema[format-nongpl]>=3.2.0->jupyter-events>=0.4.0->jupyter-server>=1.8->nbclassic>=0.4.7->notebook) (1.13)\n",
            "Requirement already satisfied: arrow>=0.15.0 in c:\\users\\matti\\appdata\\local\\programs\\python\\python310\\lib\\site-packages (from isoduration->jsonschema[format-nongpl]>=3.2.0->jupyter-events>=0.4.0->jupyter-server>=1.8->nbclassic>=0.4.7->notebook) (1.2.3)\n",
            "Installing collected packages: ipywebrtc\n",
            "Successfully installed ipywebrtc-0.6.0\n"
          ]
        },
        {
          "name": "stderr",
          "output_type": "stream",
          "text": [
            "WARNING: Ignoring invalid distribution -rotobuf (c:\\users\\matti\\appdata\\local\\programs\\python\\python310\\lib\\site-packages)\n",
            "WARNING: Ignoring invalid distribution -rotobuf (c:\\users\\matti\\appdata\\local\\programs\\python\\python310\\lib\\site-packages)\n",
            "\n",
            "[notice] A new release of pip is available: 23.3.1 -> 23.3.2\n",
            "[notice] To update, run: python.exe -m pip install --upgrade pip\n",
            "Enabling notebook extension jupyter-js-widgets/extension...\n",
            "      - Validating: ok\n"
          ]
        }
      ],
      "source": [
        "!pip install ffmpeg-python\n",
        "!pip install torchaudio ipywebrtc notebook\n",
        "!jupyter nbextension enable --py widgetsnbextension"
      ]
    },
    {
      "cell_type": "code",
      "execution_count": 5,
      "metadata": {},
      "outputs": [
        {
          "name": "stdout",
          "output_type": "stream",
          "text": [
            "Requirement already satisfied: pvrecorder in c:\\users\\matti\\appdata\\local\\programs\\python\\python310\\lib\\site-packages (1.2.1)\n"
          ]
        },
        {
          "name": "stderr",
          "output_type": "stream",
          "text": [
            "WARNING: Ignoring invalid distribution -rotobuf (c:\\users\\matti\\appdata\\local\\programs\\python\\python310\\lib\\site-packages)\n",
            "WARNING: Ignoring invalid distribution -rotobuf (c:\\users\\matti\\appdata\\local\\programs\\python\\python310\\lib\\site-packages)\n",
            "\n",
            "[notice] A new release of pip is available: 23.3.1 -> 23.3.2\n",
            "[notice] To update, run: python.exe -m pip install --upgrade pip\n"
          ]
        }
      ],
      "source": [
        "!pip3 install pvrecorder\n"
      ]
    },
    {
      "cell_type": "code",
      "execution_count": 30,
      "metadata": {},
      "outputs": [
        {
          "name": "stdout",
          "output_type": "stream",
          "text": [
            "[0] SteelSeries Sonar - Microphone (SteelSeries Sonar Virtual Audio Device)\n",
            "[1] Microphone (MSI Sound Tune)\n",
            "[2] Microphone Array (Intel® Smart Sound Technology for Digital Microphones)\n",
            "[3] Microphone (Realtek(R) Audio)\n",
            "[4] Microphone (Pico Streaming Virtual Audio)\n",
            "[5] System Virtual Line (MSI Sound Tune)\n"
          ]
        }
      ],
      "source": [
        "from pvrecorder import PvRecorder\n",
        "import wave\n",
        "import struct\n",
        "\n",
        "for index, device in enumerate(PvRecorder.get_available_devices()):\n",
        "    print(f\"[{index}] {device}\")"
      ]
    },
    {
      "cell_type": "markdown",
      "metadata": {
        "id": "FHH08HaDFQEs"
      },
      "source": [
        "# Record Audio"
      ]
    },
    {
      "cell_type": "code",
      "execution_count": 35,
      "metadata": {},
      "outputs": [],
      "source": [
        "recorder = PvRecorder(frame_length=64, device_index=3)  # Select your device index here\n",
        "audio = []\n",
        "\n",
        "try:\n",
        "    recorder.start()\n",
        "\n",
        "    while True:\n",
        "        frame = recorder.read()\n",
        "        audio.extend(frame)\n",
        "except KeyboardInterrupt:\n",
        "    recorder.stop()\n",
        "    with wave.open(\"./rec.wav\", 'w') as f:\n",
        "        f.setparams((1, 2, 48000, 64, \"NONE\", \"NONE\"))\n",
        "        f.writeframes(struct.pack(\"h\" * len(audio), *audio))\n",
        "finally:\n",
        "    recorder.delete()"
      ]
    },
    {
      "cell_type": "markdown",
      "metadata": {
        "id": "D7j3VhEsGc4G"
      },
      "source": [
        "# Transcribe"
      ]
    },
    {
      "cell_type": "code",
      "execution_count": 36,
      "metadata": {
        "colab": {
          "base_uri": "https://localhost:8080/"
        },
        "id": "-1pP466t8kpv",
        "outputId": "7daf30a0-a4ba-4779-86fa-5d9fc7a92c2c"
      },
      "outputs": [
        {
          "name": "stdout",
          "output_type": "stream",
          "text": [
            "[00:00.000 --> 00:03.080]  Don't you ever, fire on me, tits again.\n"
          ]
        }
      ],
      "source": [
        "!whisper \"rec.wav\" --model medium --output_format txt --language en"
      ]
    }
  ],
  "metadata": {
    "accelerator": "GPU",
    "colab": {
      "provenance": []
    },
    "kernelspec": {
      "display_name": "Python 3",
      "name": "python3"
    },
    "language_info": {
      "codemirror_mode": {
        "name": "ipython",
        "version": 3
      },
      "file_extension": ".py",
      "mimetype": "text/x-python",
      "name": "python",
      "nbconvert_exporter": "python",
      "pygments_lexer": "ipython3",
      "version": "3.10.6"
    }
  },
  "nbformat": 4,
  "nbformat_minor": 0
}
